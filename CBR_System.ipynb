{
 "cells": [
  {
   "cell_type": "code",
   "execution_count": 1,
   "id": "8cb03371-3559-4e36-95f2-8a8308549ab2",
   "metadata": {},
   "outputs": [],
   "source": [
    "from pyspark.sql import SparkSession\n",
    "from pyspark.sql.functions import *\n",
    "from pyspark.sql.types import *\n",
    "\n",
    "from pyspark.ml.feature import Tokenizer, StopWordsRemover, HashingTF, IDF\n",
    "from pyspark.ml import Pipeline\n",
    "from pyspark.ml.feature import CountVectorizer\n",
    "from pyspark.ml.linalg import Vectors, VectorUDT\n",
    "\n",
    "import numpy as np\n",
    "import pandas as pd\n",
    "import matplotlib.pyplot as plt\n",
    "\n",
    "import os\n",
    "import sys\n",
    "import json"
   ]
  },
  {
   "cell_type": "code",
   "execution_count": 2,
   "id": "ea938307-2934-4ea6-9d7c-a8bd949fcda7",
   "metadata": {},
   "outputs": [],
   "source": [
    "os.environ['PYSPARK_PYTHON'] = sys.executable\n",
    "os.environ['PYSPARK_DRIVER_PYTHON'] = sys.executable"
   ]
  },
  {
   "cell_type": "code",
   "execution_count": 3,
   "id": "8180855f-0301-475c-b768-b92c5e6546fd",
   "metadata": {},
   "outputs": [],
   "source": [
    "# Initialize Spark\n",
    "spark = SparkSession.builder.appName(\"CBR System\").getOrCreate()"
   ]
  },
  {
   "cell_type": "markdown",
   "id": "b93b4e02-8cbb-4af5-bfa2-409a40265ca7",
   "metadata": {},
   "source": [
    "### Load Datasets"
   ]
  },
  {
   "cell_type": "code",
   "execution_count": 4,
   "id": "7869d06c-1f0a-418a-8cfc-1ee54296bc84",
   "metadata": {},
   "outputs": [],
   "source": [
    "movies = pd.read_csv('dataset/tmdb_5000_movies.csv')\n",
    "credits = pd.read_csv('dataset/tmdb_5000_credits.csv')"
   ]
  },
  {
   "cell_type": "code",
   "execution_count": 5,
   "id": "ed832b24-4606-49d9-b815-43dcd3a5889d",
   "metadata": {
    "scrolled": true
   },
   "outputs": [
    {
     "data": {
      "text/html": [
       "<div>\n",
       "<style scoped>\n",
       "    .dataframe tbody tr th:only-of-type {\n",
       "        vertical-align: middle;\n",
       "    }\n",
       "\n",
       "    .dataframe tbody tr th {\n",
       "        vertical-align: top;\n",
       "    }\n",
       "\n",
       "    .dataframe thead th {\n",
       "        text-align: right;\n",
       "    }\n",
       "</style>\n",
       "<table border=\"1\" class=\"dataframe\">\n",
       "  <thead>\n",
       "    <tr style=\"text-align: right;\">\n",
       "      <th></th>\n",
       "      <th>budget</th>\n",
       "      <th>genres</th>\n",
       "      <th>homepage</th>\n",
       "      <th>id</th>\n",
       "      <th>keywords</th>\n",
       "      <th>original_language</th>\n",
       "      <th>original_title</th>\n",
       "      <th>overview</th>\n",
       "      <th>popularity</th>\n",
       "      <th>production_companies</th>\n",
       "      <th>production_countries</th>\n",
       "      <th>release_date</th>\n",
       "      <th>revenue</th>\n",
       "      <th>runtime</th>\n",
       "      <th>spoken_languages</th>\n",
       "      <th>status</th>\n",
       "      <th>tagline</th>\n",
       "      <th>title</th>\n",
       "      <th>vote_average</th>\n",
       "      <th>vote_count</th>\n",
       "    </tr>\n",
       "  </thead>\n",
       "  <tbody>\n",
       "    <tr>\n",
       "      <th>0</th>\n",
       "      <td>237000000</td>\n",
       "      <td>[{\"id\": 28, \"name\": \"Action\"}, {\"id\": 12, \"nam...</td>\n",
       "      <td>http://www.avatarmovie.com/</td>\n",
       "      <td>19995</td>\n",
       "      <td>[{\"id\": 1463, \"name\": \"culture clash\"}, {\"id\":...</td>\n",
       "      <td>en</td>\n",
       "      <td>Avatar</td>\n",
       "      <td>In the 22nd century, a paraplegic Marine is di...</td>\n",
       "      <td>150.437577</td>\n",
       "      <td>[{\"name\": \"Ingenious Film Partners\", \"id\": 289...</td>\n",
       "      <td>[{\"iso_3166_1\": \"US\", \"name\": \"United States o...</td>\n",
       "      <td>2009-12-10</td>\n",
       "      <td>2787965087</td>\n",
       "      <td>162.0</td>\n",
       "      <td>[{\"iso_639_1\": \"en\", \"name\": \"English\"}, {\"iso...</td>\n",
       "      <td>Released</td>\n",
       "      <td>Enter the World of Pandora.</td>\n",
       "      <td>Avatar</td>\n",
       "      <td>7.2</td>\n",
       "      <td>11800</td>\n",
       "    </tr>\n",
       "    <tr>\n",
       "      <th>1</th>\n",
       "      <td>300000000</td>\n",
       "      <td>[{\"id\": 12, \"name\": \"Adventure\"}, {\"id\": 14, \"...</td>\n",
       "      <td>http://disney.go.com/disneypictures/pirates/</td>\n",
       "      <td>285</td>\n",
       "      <td>[{\"id\": 270, \"name\": \"ocean\"}, {\"id\": 726, \"na...</td>\n",
       "      <td>en</td>\n",
       "      <td>Pirates of the Caribbean: At World's End</td>\n",
       "      <td>Captain Barbossa, long believed to be dead, ha...</td>\n",
       "      <td>139.082615</td>\n",
       "      <td>[{\"name\": \"Walt Disney Pictures\", \"id\": 2}, {\"...</td>\n",
       "      <td>[{\"iso_3166_1\": \"US\", \"name\": \"United States o...</td>\n",
       "      <td>2007-05-19</td>\n",
       "      <td>961000000</td>\n",
       "      <td>169.0</td>\n",
       "      <td>[{\"iso_639_1\": \"en\", \"name\": \"English\"}]</td>\n",
       "      <td>Released</td>\n",
       "      <td>At the end of the world, the adventure begins.</td>\n",
       "      <td>Pirates of the Caribbean: At World's End</td>\n",
       "      <td>6.9</td>\n",
       "      <td>4500</td>\n",
       "    </tr>\n",
       "  </tbody>\n",
       "</table>\n",
       "</div>"
      ],
      "text/plain": [
       "      budget                                             genres  \\\n",
       "0  237000000  [{\"id\": 28, \"name\": \"Action\"}, {\"id\": 12, \"nam...   \n",
       "1  300000000  [{\"id\": 12, \"name\": \"Adventure\"}, {\"id\": 14, \"...   \n",
       "\n",
       "                                       homepage     id  \\\n",
       "0                   http://www.avatarmovie.com/  19995   \n",
       "1  http://disney.go.com/disneypictures/pirates/    285   \n",
       "\n",
       "                                            keywords original_language  \\\n",
       "0  [{\"id\": 1463, \"name\": \"culture clash\"}, {\"id\":...                en   \n",
       "1  [{\"id\": 270, \"name\": \"ocean\"}, {\"id\": 726, \"na...                en   \n",
       "\n",
       "                             original_title  \\\n",
       "0                                    Avatar   \n",
       "1  Pirates of the Caribbean: At World's End   \n",
       "\n",
       "                                            overview  popularity  \\\n",
       "0  In the 22nd century, a paraplegic Marine is di...  150.437577   \n",
       "1  Captain Barbossa, long believed to be dead, ha...  139.082615   \n",
       "\n",
       "                                production_companies  \\\n",
       "0  [{\"name\": \"Ingenious Film Partners\", \"id\": 289...   \n",
       "1  [{\"name\": \"Walt Disney Pictures\", \"id\": 2}, {\"...   \n",
       "\n",
       "                                production_countries release_date     revenue  \\\n",
       "0  [{\"iso_3166_1\": \"US\", \"name\": \"United States o...   2009-12-10  2787965087   \n",
       "1  [{\"iso_3166_1\": \"US\", \"name\": \"United States o...   2007-05-19   961000000   \n",
       "\n",
       "   runtime                                   spoken_languages    status  \\\n",
       "0    162.0  [{\"iso_639_1\": \"en\", \"name\": \"English\"}, {\"iso...  Released   \n",
       "1    169.0           [{\"iso_639_1\": \"en\", \"name\": \"English\"}]  Released   \n",
       "\n",
       "                                          tagline  \\\n",
       "0                     Enter the World of Pandora.   \n",
       "1  At the end of the world, the adventure begins.   \n",
       "\n",
       "                                      title  vote_average  vote_count  \n",
       "0                                    Avatar           7.2       11800  \n",
       "1  Pirates of the Caribbean: At World's End           6.9        4500  "
      ]
     },
     "execution_count": 5,
     "metadata": {},
     "output_type": "execute_result"
    }
   ],
   "source": [
    "movies.head(2)"
   ]
  },
  {
   "cell_type": "code",
   "execution_count": 6,
   "id": "e0efcc27-5bc7-48ce-a1f2-544eb7aee30b",
   "metadata": {
    "scrolled": true
   },
   "outputs": [
    {
     "data": {
      "text/html": [
       "<div>\n",
       "<style scoped>\n",
       "    .dataframe tbody tr th:only-of-type {\n",
       "        vertical-align: middle;\n",
       "    }\n",
       "\n",
       "    .dataframe tbody tr th {\n",
       "        vertical-align: top;\n",
       "    }\n",
       "\n",
       "    .dataframe thead th {\n",
       "        text-align: right;\n",
       "    }\n",
       "</style>\n",
       "<table border=\"1\" class=\"dataframe\">\n",
       "  <thead>\n",
       "    <tr style=\"text-align: right;\">\n",
       "      <th></th>\n",
       "      <th>movie_id</th>\n",
       "      <th>title</th>\n",
       "      <th>cast</th>\n",
       "      <th>crew</th>\n",
       "    </tr>\n",
       "  </thead>\n",
       "  <tbody>\n",
       "    <tr>\n",
       "      <th>0</th>\n",
       "      <td>19995</td>\n",
       "      <td>Avatar</td>\n",
       "      <td>[{\"cast_id\": 242, \"character\": \"Jake Sully\", \"...</td>\n",
       "      <td>[{\"credit_id\": \"52fe48009251416c750aca23\", \"de...</td>\n",
       "    </tr>\n",
       "    <tr>\n",
       "      <th>1</th>\n",
       "      <td>285</td>\n",
       "      <td>Pirates of the Caribbean: At World's End</td>\n",
       "      <td>[{\"cast_id\": 4, \"character\": \"Captain Jack Spa...</td>\n",
       "      <td>[{\"credit_id\": \"52fe4232c3a36847f800b579\", \"de...</td>\n",
       "    </tr>\n",
       "  </tbody>\n",
       "</table>\n",
       "</div>"
      ],
      "text/plain": [
       "   movie_id                                     title  \\\n",
       "0     19995                                    Avatar   \n",
       "1       285  Pirates of the Caribbean: At World's End   \n",
       "\n",
       "                                                cast  \\\n",
       "0  [{\"cast_id\": 242, \"character\": \"Jake Sully\", \"...   \n",
       "1  [{\"cast_id\": 4, \"character\": \"Captain Jack Spa...   \n",
       "\n",
       "                                                crew  \n",
       "0  [{\"credit_id\": \"52fe48009251416c750aca23\", \"de...  \n",
       "1  [{\"credit_id\": \"52fe4232c3a36847f800b579\", \"de...  "
      ]
     },
     "execution_count": 6,
     "metadata": {},
     "output_type": "execute_result"
    }
   ],
   "source": [
    "credits.head(2)"
   ]
  },
  {
   "cell_type": "code",
   "execution_count": 7,
   "id": "f49ea507-c231-4801-b3bb-5ca83781ac0f",
   "metadata": {},
   "outputs": [
    {
     "data": {
      "text/plain": [
       "(4803, 20)"
      ]
     },
     "execution_count": 7,
     "metadata": {},
     "output_type": "execute_result"
    }
   ],
   "source": [
    "movies.shape"
   ]
  },
  {
   "cell_type": "code",
   "execution_count": 8,
   "id": "150e61c7-c11f-4023-950b-eef7795a44e6",
   "metadata": {},
   "outputs": [
    {
     "data": {
      "text/plain": [
       "(4803, 4)"
      ]
     },
     "execution_count": 8,
     "metadata": {},
     "output_type": "execute_result"
    }
   ],
   "source": [
    "credits.shape"
   ]
  },
  {
   "cell_type": "markdown",
   "id": "c0b49aea-0332-4c74-b45a-31fcfbdac9a5",
   "metadata": {},
   "source": [
    "### Data Pre-Processing"
   ]
  },
  {
   "cell_type": "code",
   "execution_count": 9,
   "id": "da5120a6-3cde-42c4-bd21-b71e0a0d2026",
   "metadata": {
    "scrolled": true
   },
   "outputs": [],
   "source": [
    "# merge into single dataset\n",
    "movies = movies.merge(credits, on='title')"
   ]
  },
  {
   "cell_type": "code",
   "execution_count": 10,
   "id": "91a5409a-abaa-459a-87af-09c4701692f7",
   "metadata": {},
   "outputs": [
    {
     "data": {
      "text/plain": [
       "budget                    int64\n",
       "genres                   object\n",
       "homepage                 object\n",
       "id                        int64\n",
       "keywords                 object\n",
       "original_language        object\n",
       "original_title           object\n",
       "overview                 object\n",
       "popularity              float64\n",
       "production_companies     object\n",
       "production_countries     object\n",
       "release_date             object\n",
       "revenue                   int64\n",
       "runtime                 float64\n",
       "spoken_languages         object\n",
       "status                   object\n",
       "tagline                  object\n",
       "title                    object\n",
       "vote_average            float64\n",
       "vote_count                int64\n",
       "movie_id                  int64\n",
       "cast                     object\n",
       "crew                     object\n",
       "dtype: object"
      ]
     },
     "execution_count": 10,
     "metadata": {},
     "output_type": "execute_result"
    }
   ],
   "source": [
    "movies.dtypes"
   ]
  },
  {
   "cell_type": "code",
   "execution_count": 11,
   "id": "db0e744f-d666-4a4b-8aea-e4c23f1bbc38",
   "metadata": {},
   "outputs": [
    {
     "data": {
      "text/html": [
       "<div>\n",
       "<style scoped>\n",
       "    .dataframe tbody tr th:only-of-type {\n",
       "        vertical-align: middle;\n",
       "    }\n",
       "\n",
       "    .dataframe tbody tr th {\n",
       "        vertical-align: top;\n",
       "    }\n",
       "\n",
       "    .dataframe thead th {\n",
       "        text-align: right;\n",
       "    }\n",
       "</style>\n",
       "<table border=\"1\" class=\"dataframe\">\n",
       "  <thead>\n",
       "    <tr style=\"text-align: right;\">\n",
       "      <th></th>\n",
       "      <th>budget</th>\n",
       "      <th>genres</th>\n",
       "      <th>homepage</th>\n",
       "      <th>id</th>\n",
       "      <th>keywords</th>\n",
       "      <th>original_language</th>\n",
       "      <th>original_title</th>\n",
       "      <th>overview</th>\n",
       "      <th>popularity</th>\n",
       "      <th>production_companies</th>\n",
       "      <th>...</th>\n",
       "      <th>runtime</th>\n",
       "      <th>spoken_languages</th>\n",
       "      <th>status</th>\n",
       "      <th>tagline</th>\n",
       "      <th>title</th>\n",
       "      <th>vote_average</th>\n",
       "      <th>vote_count</th>\n",
       "      <th>movie_id</th>\n",
       "      <th>cast</th>\n",
       "      <th>crew</th>\n",
       "    </tr>\n",
       "  </thead>\n",
       "  <tbody>\n",
       "    <tr>\n",
       "      <th>0</th>\n",
       "      <td>237000000</td>\n",
       "      <td>[{\"id\": 28, \"name\": \"Action\"}, {\"id\": 12, \"nam...</td>\n",
       "      <td>http://www.avatarmovie.com/</td>\n",
       "      <td>19995</td>\n",
       "      <td>[{\"id\": 1463, \"name\": \"culture clash\"}, {\"id\":...</td>\n",
       "      <td>en</td>\n",
       "      <td>Avatar</td>\n",
       "      <td>In the 22nd century, a paraplegic Marine is di...</td>\n",
       "      <td>150.437577</td>\n",
       "      <td>[{\"name\": \"Ingenious Film Partners\", \"id\": 289...</td>\n",
       "      <td>...</td>\n",
       "      <td>162.0</td>\n",
       "      <td>[{\"iso_639_1\": \"en\", \"name\": \"English\"}, {\"iso...</td>\n",
       "      <td>Released</td>\n",
       "      <td>Enter the World of Pandora.</td>\n",
       "      <td>Avatar</td>\n",
       "      <td>7.2</td>\n",
       "      <td>11800</td>\n",
       "      <td>19995</td>\n",
       "      <td>[{\"cast_id\": 242, \"character\": \"Jake Sully\", \"...</td>\n",
       "      <td>[{\"credit_id\": \"52fe48009251416c750aca23\", \"de...</td>\n",
       "    </tr>\n",
       "    <tr>\n",
       "      <th>1</th>\n",
       "      <td>300000000</td>\n",
       "      <td>[{\"id\": 12, \"name\": \"Adventure\"}, {\"id\": 14, \"...</td>\n",
       "      <td>http://disney.go.com/disneypictures/pirates/</td>\n",
       "      <td>285</td>\n",
       "      <td>[{\"id\": 270, \"name\": \"ocean\"}, {\"id\": 726, \"na...</td>\n",
       "      <td>en</td>\n",
       "      <td>Pirates of the Caribbean: At World's End</td>\n",
       "      <td>Captain Barbossa, long believed to be dead, ha...</td>\n",
       "      <td>139.082615</td>\n",
       "      <td>[{\"name\": \"Walt Disney Pictures\", \"id\": 2}, {\"...</td>\n",
       "      <td>...</td>\n",
       "      <td>169.0</td>\n",
       "      <td>[{\"iso_639_1\": \"en\", \"name\": \"English\"}]</td>\n",
       "      <td>Released</td>\n",
       "      <td>At the end of the world, the adventure begins.</td>\n",
       "      <td>Pirates of the Caribbean: At World's End</td>\n",
       "      <td>6.9</td>\n",
       "      <td>4500</td>\n",
       "      <td>285</td>\n",
       "      <td>[{\"cast_id\": 4, \"character\": \"Captain Jack Spa...</td>\n",
       "      <td>[{\"credit_id\": \"52fe4232c3a36847f800b579\", \"de...</td>\n",
       "    </tr>\n",
       "  </tbody>\n",
       "</table>\n",
       "<p>2 rows × 23 columns</p>\n",
       "</div>"
      ],
      "text/plain": [
       "      budget                                             genres  \\\n",
       "0  237000000  [{\"id\": 28, \"name\": \"Action\"}, {\"id\": 12, \"nam...   \n",
       "1  300000000  [{\"id\": 12, \"name\": \"Adventure\"}, {\"id\": 14, \"...   \n",
       "\n",
       "                                       homepage     id  \\\n",
       "0                   http://www.avatarmovie.com/  19995   \n",
       "1  http://disney.go.com/disneypictures/pirates/    285   \n",
       "\n",
       "                                            keywords original_language  \\\n",
       "0  [{\"id\": 1463, \"name\": \"culture clash\"}, {\"id\":...                en   \n",
       "1  [{\"id\": 270, \"name\": \"ocean\"}, {\"id\": 726, \"na...                en   \n",
       "\n",
       "                             original_title  \\\n",
       "0                                    Avatar   \n",
       "1  Pirates of the Caribbean: At World's End   \n",
       "\n",
       "                                            overview  popularity  \\\n",
       "0  In the 22nd century, a paraplegic Marine is di...  150.437577   \n",
       "1  Captain Barbossa, long believed to be dead, ha...  139.082615   \n",
       "\n",
       "                                production_companies  ... runtime  \\\n",
       "0  [{\"name\": \"Ingenious Film Partners\", \"id\": 289...  ...   162.0   \n",
       "1  [{\"name\": \"Walt Disney Pictures\", \"id\": 2}, {\"...  ...   169.0   \n",
       "\n",
       "                                    spoken_languages    status  \\\n",
       "0  [{\"iso_639_1\": \"en\", \"name\": \"English\"}, {\"iso...  Released   \n",
       "1           [{\"iso_639_1\": \"en\", \"name\": \"English\"}]  Released   \n",
       "\n",
       "                                          tagline  \\\n",
       "0                     Enter the World of Pandora.   \n",
       "1  At the end of the world, the adventure begins.   \n",
       "\n",
       "                                      title vote_average vote_count movie_id  \\\n",
       "0                                    Avatar          7.2      11800    19995   \n",
       "1  Pirates of the Caribbean: At World's End          6.9       4500      285   \n",
       "\n",
       "                                                cast  \\\n",
       "0  [{\"cast_id\": 242, \"character\": \"Jake Sully\", \"...   \n",
       "1  [{\"cast_id\": 4, \"character\": \"Captain Jack Spa...   \n",
       "\n",
       "                                                crew  \n",
       "0  [{\"credit_id\": \"52fe48009251416c750aca23\", \"de...  \n",
       "1  [{\"credit_id\": \"52fe4232c3a36847f800b579\", \"de...  \n",
       "\n",
       "[2 rows x 23 columns]"
      ]
     },
     "execution_count": 11,
     "metadata": {},
     "output_type": "execute_result"
    }
   ],
   "source": [
    "movies.head(2)"
   ]
  },
  {
   "cell_type": "code",
   "execution_count": 12,
   "id": "3108f69d-e8ff-4289-a1c0-36d6f1e918ab",
   "metadata": {},
   "outputs": [
    {
     "data": {
      "text/plain": [
       "(4809, 23)"
      ]
     },
     "execution_count": 12,
     "metadata": {},
     "output_type": "execute_result"
    }
   ],
   "source": [
    "movies.shape"
   ]
  },
  {
   "cell_type": "code",
   "execution_count": 13,
   "id": "1ffe3146-d9bf-4493-b284-5eec72190c0e",
   "metadata": {},
   "outputs": [],
   "source": [
    "# Keeping important columns for recommendation\n",
    "movies = movies[['movie_id','title','overview','genres','keywords','cast','crew']]"
   ]
  },
  {
   "cell_type": "code",
   "execution_count": 14,
   "id": "ebe67eeb-c37b-4446-a9c7-592e3696604b",
   "metadata": {},
   "outputs": [
    {
     "data": {
      "text/html": [
       "<div>\n",
       "<style scoped>\n",
       "    .dataframe tbody tr th:only-of-type {\n",
       "        vertical-align: middle;\n",
       "    }\n",
       "\n",
       "    .dataframe tbody tr th {\n",
       "        vertical-align: top;\n",
       "    }\n",
       "\n",
       "    .dataframe thead th {\n",
       "        text-align: right;\n",
       "    }\n",
       "</style>\n",
       "<table border=\"1\" class=\"dataframe\">\n",
       "  <thead>\n",
       "    <tr style=\"text-align: right;\">\n",
       "      <th></th>\n",
       "      <th>movie_id</th>\n",
       "      <th>title</th>\n",
       "      <th>overview</th>\n",
       "      <th>genres</th>\n",
       "      <th>keywords</th>\n",
       "      <th>cast</th>\n",
       "      <th>crew</th>\n",
       "    </tr>\n",
       "  </thead>\n",
       "  <tbody>\n",
       "    <tr>\n",
       "      <th>0</th>\n",
       "      <td>19995</td>\n",
       "      <td>Avatar</td>\n",
       "      <td>In the 22nd century, a paraplegic Marine is di...</td>\n",
       "      <td>[{\"id\": 28, \"name\": \"Action\"}, {\"id\": 12, \"nam...</td>\n",
       "      <td>[{\"id\": 1463, \"name\": \"culture clash\"}, {\"id\":...</td>\n",
       "      <td>[{\"cast_id\": 242, \"character\": \"Jake Sully\", \"...</td>\n",
       "      <td>[{\"credit_id\": \"52fe48009251416c750aca23\", \"de...</td>\n",
       "    </tr>\n",
       "    <tr>\n",
       "      <th>1</th>\n",
       "      <td>285</td>\n",
       "      <td>Pirates of the Caribbean: At World's End</td>\n",
       "      <td>Captain Barbossa, long believed to be dead, ha...</td>\n",
       "      <td>[{\"id\": 12, \"name\": \"Adventure\"}, {\"id\": 14, \"...</td>\n",
       "      <td>[{\"id\": 270, \"name\": \"ocean\"}, {\"id\": 726, \"na...</td>\n",
       "      <td>[{\"cast_id\": 4, \"character\": \"Captain Jack Spa...</td>\n",
       "      <td>[{\"credit_id\": \"52fe4232c3a36847f800b579\", \"de...</td>\n",
       "    </tr>\n",
       "  </tbody>\n",
       "</table>\n",
       "</div>"
      ],
      "text/plain": [
       "   movie_id                                     title  \\\n",
       "0     19995                                    Avatar   \n",
       "1       285  Pirates of the Caribbean: At World's End   \n",
       "\n",
       "                                            overview  \\\n",
       "0  In the 22nd century, a paraplegic Marine is di...   \n",
       "1  Captain Barbossa, long believed to be dead, ha...   \n",
       "\n",
       "                                              genres  \\\n",
       "0  [{\"id\": 28, \"name\": \"Action\"}, {\"id\": 12, \"nam...   \n",
       "1  [{\"id\": 12, \"name\": \"Adventure\"}, {\"id\": 14, \"...   \n",
       "\n",
       "                                            keywords  \\\n",
       "0  [{\"id\": 1463, \"name\": \"culture clash\"}, {\"id\":...   \n",
       "1  [{\"id\": 270, \"name\": \"ocean\"}, {\"id\": 726, \"na...   \n",
       "\n",
       "                                                cast  \\\n",
       "0  [{\"cast_id\": 242, \"character\": \"Jake Sully\", \"...   \n",
       "1  [{\"cast_id\": 4, \"character\": \"Captain Jack Spa...   \n",
       "\n",
       "                                                crew  \n",
       "0  [{\"credit_id\": \"52fe48009251416c750aca23\", \"de...  \n",
       "1  [{\"credit_id\": \"52fe4232c3a36847f800b579\", \"de...  "
      ]
     },
     "execution_count": 14,
     "metadata": {},
     "output_type": "execute_result"
    }
   ],
   "source": [
    "movies.head(2)"
   ]
  },
  {
   "cell_type": "code",
   "execution_count": 15,
   "id": "77eda313-99bb-4e01-8429-1d5549ebd869",
   "metadata": {},
   "outputs": [
    {
     "data": {
      "text/plain": [
       "movie_id    0\n",
       "title       0\n",
       "overview    3\n",
       "genres      0\n",
       "keywords    0\n",
       "cast        0\n",
       "crew        0\n",
       "dtype: int64"
      ]
     },
     "execution_count": 15,
     "metadata": {},
     "output_type": "execute_result"
    }
   ],
   "source": [
    "# Check null\n",
    "movies.isnull().sum()"
   ]
  },
  {
   "cell_type": "code",
   "execution_count": 16,
   "id": "0800c815-a6d2-42a9-8c65-6ecf6e55ff5d",
   "metadata": {},
   "outputs": [],
   "source": [
    "movies.dropna(inplace=True)"
   ]
  },
  {
   "cell_type": "code",
   "execution_count": 17,
   "id": "519e796f-ac8b-4071-b4de-09a210ba84c0",
   "metadata": {},
   "outputs": [
    {
     "data": {
      "text/plain": [
       "movie_id    0\n",
       "title       0\n",
       "overview    0\n",
       "genres      0\n",
       "keywords    0\n",
       "cast        0\n",
       "crew        0\n",
       "dtype: int64"
      ]
     },
     "execution_count": 17,
     "metadata": {},
     "output_type": "execute_result"
    }
   ],
   "source": [
    "movies.isnull().sum()"
   ]
  },
  {
   "cell_type": "code",
   "execution_count": 18,
   "id": "4c0da9db-62a8-4f28-80a0-b6109c784f50",
   "metadata": {},
   "outputs": [
    {
     "data": {
      "text/plain": [
       "(4806, 7)"
      ]
     },
     "execution_count": 18,
     "metadata": {},
     "output_type": "execute_result"
    }
   ],
   "source": [
    "movies.shape"
   ]
  },
  {
   "cell_type": "code",
   "execution_count": 19,
   "id": "91ab01ef-0d78-4b20-9a9e-12e2028d4512",
   "metadata": {},
   "outputs": [
    {
     "data": {
      "text/plain": [
       "0"
      ]
     },
     "execution_count": 19,
     "metadata": {},
     "output_type": "execute_result"
    }
   ],
   "source": [
    "# check duplicate\n",
    "movies.duplicated().sum()"
   ]
  },
  {
   "cell_type": "code",
   "execution_count": 20,
   "id": "8c69bd62-e009-43c0-b082-4c8f1aec7c7c",
   "metadata": {},
   "outputs": [
    {
     "data": {
      "text/plain": [
       "movie_id                                                19995\n",
       "title                                                  Avatar\n",
       "overview    In the 22nd century, a paraplegic Marine is di...\n",
       "genres      [{\"id\": 28, \"name\": \"Action\"}, {\"id\": 12, \"nam...\n",
       "keywords    [{\"id\": 1463, \"name\": \"culture clash\"}, {\"id\":...\n",
       "cast        [{\"cast_id\": 242, \"character\": \"Jake Sully\", \"...\n",
       "crew        [{\"credit_id\": \"52fe48009251416c750aca23\", \"de...\n",
       "Name: 0, dtype: object"
      ]
     },
     "execution_count": 20,
     "metadata": {},
     "output_type": "execute_result"
    }
   ],
   "source": [
    "movies.iloc[0]"
   ]
  },
  {
   "cell_type": "code",
   "execution_count": 21,
   "id": "02d86e5c-f28b-4b62-810e-c279970ad52f",
   "metadata": {},
   "outputs": [
    {
     "data": {
      "text/plain": [
       "0       [{\"id\": 28, \"name\": \"Action\"}, {\"id\": 12, \"nam...\n",
       "1       [{\"id\": 12, \"name\": \"Adventure\"}, {\"id\": 14, \"...\n",
       "2       [{\"id\": 28, \"name\": \"Action\"}, {\"id\": 12, \"nam...\n",
       "3       [{\"id\": 28, \"name\": \"Action\"}, {\"id\": 80, \"nam...\n",
       "4       [{\"id\": 28, \"name\": \"Action\"}, {\"id\": 12, \"nam...\n",
       "                              ...                        \n",
       "4804    [{\"id\": 28, \"name\": \"Action\"}, {\"id\": 80, \"nam...\n",
       "4805    [{\"id\": 35, \"name\": \"Comedy\"}, {\"id\": 10749, \"...\n",
       "4806    [{\"id\": 35, \"name\": \"Comedy\"}, {\"id\": 18, \"nam...\n",
       "4807                                                   []\n",
       "4808                  [{\"id\": 99, \"name\": \"Documentary\"}]\n",
       "Name: genres, Length: 4806, dtype: object"
      ]
     },
     "execution_count": 21,
     "metadata": {},
     "output_type": "execute_result"
    }
   ],
   "source": [
    "movies['genres']"
   ]
  },
  {
   "cell_type": "code",
   "execution_count": 22,
   "id": "cd3ed235-57c9-45b0-8efe-8184fb875c39",
   "metadata": {},
   "outputs": [
    {
     "data": {
      "text/plain": [
       "'[{\"id\": 28, \"name\": \"Action\"}, {\"id\": 12, \"name\": \"Adventure\"}, {\"id\": 14, \"name\": \"Fantasy\"}, {\"id\": 878, \"name\": \"Science Fiction\"}]'"
      ]
     },
     "execution_count": 22,
     "metadata": {},
     "output_type": "execute_result"
    }
   ],
   "source": [
    "movies['genres'][0]"
   ]
  },
  {
   "cell_type": "markdown",
   "id": "fe51f286-a65e-46f5-ab49-75d3a0833c7f",
   "metadata": {},
   "source": [
    "- #### parse JSON"
   ]
  },
  {
   "cell_type": "code",
   "execution_count": 23,
   "id": "889e548b-33b0-4d84-b571-3bacc00fc26a",
   "metadata": {},
   "outputs": [],
   "source": [
    "def extract_names(genre_string):\n",
    "    # Parse the JSON string to a list of dictionaries\n",
    "    genre_list = json.loads(genre_string)\n",
    "    \n",
    "    # Extract the names from the list of dictionaries\n",
    "    return [item['name'] for item in genre_list]"
   ]
  },
  {
   "cell_type": "code",
   "execution_count": 24,
   "id": "c1259e55-e495-4c72-b9a4-983ef938f763",
   "metadata": {},
   "outputs": [],
   "source": [
    "# handle genre\n",
    "movies['genres'] = movies['genres'].apply(extract_names)"
   ]
  },
  {
   "cell_type": "code",
   "execution_count": 25,
   "id": "a7a512b7-c311-4dca-9aae-1bab957dc1ad",
   "metadata": {},
   "outputs": [
    {
     "data": {
      "text/html": [
       "<div>\n",
       "<style scoped>\n",
       "    .dataframe tbody tr th:only-of-type {\n",
       "        vertical-align: middle;\n",
       "    }\n",
       "\n",
       "    .dataframe tbody tr th {\n",
       "        vertical-align: top;\n",
       "    }\n",
       "\n",
       "    .dataframe thead th {\n",
       "        text-align: right;\n",
       "    }\n",
       "</style>\n",
       "<table border=\"1\" class=\"dataframe\">\n",
       "  <thead>\n",
       "    <tr style=\"text-align: right;\">\n",
       "      <th></th>\n",
       "      <th>movie_id</th>\n",
       "      <th>title</th>\n",
       "      <th>overview</th>\n",
       "      <th>genres</th>\n",
       "      <th>keywords</th>\n",
       "      <th>cast</th>\n",
       "      <th>crew</th>\n",
       "    </tr>\n",
       "  </thead>\n",
       "  <tbody>\n",
       "    <tr>\n",
       "      <th>0</th>\n",
       "      <td>19995</td>\n",
       "      <td>Avatar</td>\n",
       "      <td>In the 22nd century, a paraplegic Marine is di...</td>\n",
       "      <td>[Action, Adventure, Fantasy, Science Fiction]</td>\n",
       "      <td>[{\"id\": 1463, \"name\": \"culture clash\"}, {\"id\":...</td>\n",
       "      <td>[{\"cast_id\": 242, \"character\": \"Jake Sully\", \"...</td>\n",
       "      <td>[{\"credit_id\": \"52fe48009251416c750aca23\", \"de...</td>\n",
       "    </tr>\n",
       "    <tr>\n",
       "      <th>1</th>\n",
       "      <td>285</td>\n",
       "      <td>Pirates of the Caribbean: At World's End</td>\n",
       "      <td>Captain Barbossa, long believed to be dead, ha...</td>\n",
       "      <td>[Adventure, Fantasy, Action]</td>\n",
       "      <td>[{\"id\": 270, \"name\": \"ocean\"}, {\"id\": 726, \"na...</td>\n",
       "      <td>[{\"cast_id\": 4, \"character\": \"Captain Jack Spa...</td>\n",
       "      <td>[{\"credit_id\": \"52fe4232c3a36847f800b579\", \"de...</td>\n",
       "    </tr>\n",
       "  </tbody>\n",
       "</table>\n",
       "</div>"
      ],
      "text/plain": [
       "   movie_id                                     title  \\\n",
       "0     19995                                    Avatar   \n",
       "1       285  Pirates of the Caribbean: At World's End   \n",
       "\n",
       "                                            overview  \\\n",
       "0  In the 22nd century, a paraplegic Marine is di...   \n",
       "1  Captain Barbossa, long believed to be dead, ha...   \n",
       "\n",
       "                                          genres  \\\n",
       "0  [Action, Adventure, Fantasy, Science Fiction]   \n",
       "1                   [Adventure, Fantasy, Action]   \n",
       "\n",
       "                                            keywords  \\\n",
       "0  [{\"id\": 1463, \"name\": \"culture clash\"}, {\"id\":...   \n",
       "1  [{\"id\": 270, \"name\": \"ocean\"}, {\"id\": 726, \"na...   \n",
       "\n",
       "                                                cast  \\\n",
       "0  [{\"cast_id\": 242, \"character\": \"Jake Sully\", \"...   \n",
       "1  [{\"cast_id\": 4, \"character\": \"Captain Jack Spa...   \n",
       "\n",
       "                                                crew  \n",
       "0  [{\"credit_id\": \"52fe48009251416c750aca23\", \"de...  \n",
       "1  [{\"credit_id\": \"52fe4232c3a36847f800b579\", \"de...  "
      ]
     },
     "execution_count": 25,
     "metadata": {},
     "output_type": "execute_result"
    }
   ],
   "source": [
    "movies.head(2)"
   ]
  },
  {
   "cell_type": "code",
   "execution_count": 26,
   "id": "3765ae55-190a-4774-8fac-7228d8ccdda0",
   "metadata": {},
   "outputs": [
    {
     "data": {
      "text/plain": [
       "'[{\"id\": 1463, \"name\": \"culture clash\"}, {\"id\": 2964, \"name\": \"future\"}, {\"id\": 3386, \"name\": \"space war\"}, {\"id\": 3388, \"name\": \"space colony\"}, {\"id\": 3679, \"name\": \"society\"}, {\"id\": 3801, \"name\": \"space travel\"}, {\"id\": 9685, \"name\": \"futuristic\"}, {\"id\": 9840, \"name\": \"romance\"}, {\"id\": 9882, \"name\": \"space\"}, {\"id\": 9951, \"name\": \"alien\"}, {\"id\": 10148, \"name\": \"tribe\"}, {\"id\": 10158, \"name\": \"alien planet\"}, {\"id\": 10987, \"name\": \"cgi\"}, {\"id\": 11399, \"name\": \"marine\"}, {\"id\": 13065, \"name\": \"soldier\"}, {\"id\": 14643, \"name\": \"battle\"}, {\"id\": 14720, \"name\": \"love affair\"}, {\"id\": 165431, \"name\": \"anti war\"}, {\"id\": 193554, \"name\": \"power relations\"}, {\"id\": 206690, \"name\": \"mind and soul\"}, {\"id\": 209714, \"name\": \"3d\"}]'"
      ]
     },
     "execution_count": 26,
     "metadata": {},
     "output_type": "execute_result"
    }
   ],
   "source": [
    "# handle keywords\n",
    "movies['keywords'][0]"
   ]
  },
  {
   "cell_type": "code",
   "execution_count": 27,
   "id": "966fb8e1-406e-4c6e-9257-d3b0e044752e",
   "metadata": {},
   "outputs": [
    {
     "data": {
      "text/html": [
       "<div>\n",
       "<style scoped>\n",
       "    .dataframe tbody tr th:only-of-type {\n",
       "        vertical-align: middle;\n",
       "    }\n",
       "\n",
       "    .dataframe tbody tr th {\n",
       "        vertical-align: top;\n",
       "    }\n",
       "\n",
       "    .dataframe thead th {\n",
       "        text-align: right;\n",
       "    }\n",
       "</style>\n",
       "<table border=\"1\" class=\"dataframe\">\n",
       "  <thead>\n",
       "    <tr style=\"text-align: right;\">\n",
       "      <th></th>\n",
       "      <th>movie_id</th>\n",
       "      <th>title</th>\n",
       "      <th>overview</th>\n",
       "      <th>genres</th>\n",
       "      <th>keywords</th>\n",
       "      <th>cast</th>\n",
       "      <th>crew</th>\n",
       "    </tr>\n",
       "  </thead>\n",
       "  <tbody>\n",
       "    <tr>\n",
       "      <th>0</th>\n",
       "      <td>19995</td>\n",
       "      <td>Avatar</td>\n",
       "      <td>In the 22nd century, a paraplegic Marine is di...</td>\n",
       "      <td>[Action, Adventure, Fantasy, Science Fiction]</td>\n",
       "      <td>[culture clash, future, space war, space colon...</td>\n",
       "      <td>[{\"cast_id\": 242, \"character\": \"Jake Sully\", \"...</td>\n",
       "      <td>[{\"credit_id\": \"52fe48009251416c750aca23\", \"de...</td>\n",
       "    </tr>\n",
       "    <tr>\n",
       "      <th>1</th>\n",
       "      <td>285</td>\n",
       "      <td>Pirates of the Caribbean: At World's End</td>\n",
       "      <td>Captain Barbossa, long believed to be dead, ha...</td>\n",
       "      <td>[Adventure, Fantasy, Action]</td>\n",
       "      <td>[ocean, drug abuse, exotic island, east india ...</td>\n",
       "      <td>[{\"cast_id\": 4, \"character\": \"Captain Jack Spa...</td>\n",
       "      <td>[{\"credit_id\": \"52fe4232c3a36847f800b579\", \"de...</td>\n",
       "    </tr>\n",
       "  </tbody>\n",
       "</table>\n",
       "</div>"
      ],
      "text/plain": [
       "   movie_id                                     title  \\\n",
       "0     19995                                    Avatar   \n",
       "1       285  Pirates of the Caribbean: At World's End   \n",
       "\n",
       "                                            overview  \\\n",
       "0  In the 22nd century, a paraplegic Marine is di...   \n",
       "1  Captain Barbossa, long believed to be dead, ha...   \n",
       "\n",
       "                                          genres  \\\n",
       "0  [Action, Adventure, Fantasy, Science Fiction]   \n",
       "1                   [Adventure, Fantasy, Action]   \n",
       "\n",
       "                                            keywords  \\\n",
       "0  [culture clash, future, space war, space colon...   \n",
       "1  [ocean, drug abuse, exotic island, east india ...   \n",
       "\n",
       "                                                cast  \\\n",
       "0  [{\"cast_id\": 242, \"character\": \"Jake Sully\", \"...   \n",
       "1  [{\"cast_id\": 4, \"character\": \"Captain Jack Spa...   \n",
       "\n",
       "                                                crew  \n",
       "0  [{\"credit_id\": \"52fe48009251416c750aca23\", \"de...  \n",
       "1  [{\"credit_id\": \"52fe4232c3a36847f800b579\", \"de...  "
      ]
     },
     "execution_count": 27,
     "metadata": {},
     "output_type": "execute_result"
    }
   ],
   "source": [
    "movies['keywords'] = movies['keywords'].apply(extract_names)\n",
    "movies.head(2)"
   ]
  },
  {
   "cell_type": "code",
   "execution_count": 28,
   "id": "32fa797b-00ee-463f-ad74-7235dafc01e8",
   "metadata": {},
   "outputs": [
    {
     "data": {
      "text/html": [
       "<div>\n",
       "<style scoped>\n",
       "    .dataframe tbody tr th:only-of-type {\n",
       "        vertical-align: middle;\n",
       "    }\n",
       "\n",
       "    .dataframe tbody tr th {\n",
       "        vertical-align: top;\n",
       "    }\n",
       "\n",
       "    .dataframe thead th {\n",
       "        text-align: right;\n",
       "    }\n",
       "</style>\n",
       "<table border=\"1\" class=\"dataframe\">\n",
       "  <thead>\n",
       "    <tr style=\"text-align: right;\">\n",
       "      <th></th>\n",
       "      <th>movie_id</th>\n",
       "      <th>title</th>\n",
       "      <th>overview</th>\n",
       "      <th>genres</th>\n",
       "      <th>keywords</th>\n",
       "      <th>cast</th>\n",
       "      <th>crew</th>\n",
       "    </tr>\n",
       "  </thead>\n",
       "  <tbody>\n",
       "    <tr>\n",
       "      <th>0</th>\n",
       "      <td>19995</td>\n",
       "      <td>Avatar</td>\n",
       "      <td>In the 22nd century, a paraplegic Marine is di...</td>\n",
       "      <td>[Action, Adventure, Fantasy, Science Fiction]</td>\n",
       "      <td>[culture clash, future, space war, space colon...</td>\n",
       "      <td>[Sam Worthington, Zoe Saldana, Sigourney Weave...</td>\n",
       "      <td>[{\"credit_id\": \"52fe48009251416c750aca23\", \"de...</td>\n",
       "    </tr>\n",
       "    <tr>\n",
       "      <th>1</th>\n",
       "      <td>285</td>\n",
       "      <td>Pirates of the Caribbean: At World's End</td>\n",
       "      <td>Captain Barbossa, long believed to be dead, ha...</td>\n",
       "      <td>[Adventure, Fantasy, Action]</td>\n",
       "      <td>[ocean, drug abuse, exotic island, east india ...</td>\n",
       "      <td>[Johnny Depp, Orlando Bloom, Keira Knightley, ...</td>\n",
       "      <td>[{\"credit_id\": \"52fe4232c3a36847f800b579\", \"de...</td>\n",
       "    </tr>\n",
       "  </tbody>\n",
       "</table>\n",
       "</div>"
      ],
      "text/plain": [
       "   movie_id                                     title  \\\n",
       "0     19995                                    Avatar   \n",
       "1       285  Pirates of the Caribbean: At World's End   \n",
       "\n",
       "                                            overview  \\\n",
       "0  In the 22nd century, a paraplegic Marine is di...   \n",
       "1  Captain Barbossa, long believed to be dead, ha...   \n",
       "\n",
       "                                          genres  \\\n",
       "0  [Action, Adventure, Fantasy, Science Fiction]   \n",
       "1                   [Adventure, Fantasy, Action]   \n",
       "\n",
       "                                            keywords  \\\n",
       "0  [culture clash, future, space war, space colon...   \n",
       "1  [ocean, drug abuse, exotic island, east india ...   \n",
       "\n",
       "                                                cast  \\\n",
       "0  [Sam Worthington, Zoe Saldana, Sigourney Weave...   \n",
       "1  [Johnny Depp, Orlando Bloom, Keira Knightley, ...   \n",
       "\n",
       "                                                crew  \n",
       "0  [{\"credit_id\": \"52fe48009251416c750aca23\", \"de...  \n",
       "1  [{\"credit_id\": \"52fe4232c3a36847f800b579\", \"de...  "
      ]
     },
     "execution_count": 28,
     "metadata": {},
     "output_type": "execute_result"
    }
   ],
   "source": [
    "movies['cast'] = movies['cast'].apply(extract_names)\n",
    "movies.head(2)"
   ]
  },
  {
   "cell_type": "code",
   "execution_count": 29,
   "id": "2b1a77c9-df0d-4bc3-a24c-2490829ec4fa",
   "metadata": {},
   "outputs": [],
   "source": [
    "def extract_director(crew_string):\n",
    "    # Parse the JSON string to a list of dictionaries\n",
    "    crew_list = json.loads(crew_string)\n",
    "    \n",
    "    # Extract the names from the list of dictionaries\n",
    "    return [item['name'] for item in crew_list if item['job']=='Director']"
   ]
  },
  {
   "cell_type": "code",
   "execution_count": 30,
   "id": "3a763ccb-6b0a-4c83-8a19-051463ac1fcf",
   "metadata": {},
   "outputs": [],
   "source": [
    "movies['crew'] = movies['crew'].apply(extract_director)"
   ]
  },
  {
   "cell_type": "code",
   "execution_count": 31,
   "id": "96eca977-4e62-4375-b87b-dafb5ef2bf3e",
   "metadata": {},
   "outputs": [
    {
     "data": {
      "text/html": [
       "<div>\n",
       "<style scoped>\n",
       "    .dataframe tbody tr th:only-of-type {\n",
       "        vertical-align: middle;\n",
       "    }\n",
       "\n",
       "    .dataframe tbody tr th {\n",
       "        vertical-align: top;\n",
       "    }\n",
       "\n",
       "    .dataframe thead th {\n",
       "        text-align: right;\n",
       "    }\n",
       "</style>\n",
       "<table border=\"1\" class=\"dataframe\">\n",
       "  <thead>\n",
       "    <tr style=\"text-align: right;\">\n",
       "      <th></th>\n",
       "      <th>movie_id</th>\n",
       "      <th>title</th>\n",
       "      <th>overview</th>\n",
       "      <th>genres</th>\n",
       "      <th>keywords</th>\n",
       "      <th>cast</th>\n",
       "      <th>crew</th>\n",
       "    </tr>\n",
       "  </thead>\n",
       "  <tbody>\n",
       "    <tr>\n",
       "      <th>0</th>\n",
       "      <td>19995</td>\n",
       "      <td>Avatar</td>\n",
       "      <td>In the 22nd century, a paraplegic Marine is di...</td>\n",
       "      <td>[Action, Adventure, Fantasy, Science Fiction]</td>\n",
       "      <td>[culture clash, future, space war, space colon...</td>\n",
       "      <td>[Sam Worthington, Zoe Saldana, Sigourney Weave...</td>\n",
       "      <td>[James Cameron]</td>\n",
       "    </tr>\n",
       "    <tr>\n",
       "      <th>1</th>\n",
       "      <td>285</td>\n",
       "      <td>Pirates of the Caribbean: At World's End</td>\n",
       "      <td>Captain Barbossa, long believed to be dead, ha...</td>\n",
       "      <td>[Adventure, Fantasy, Action]</td>\n",
       "      <td>[ocean, drug abuse, exotic island, east india ...</td>\n",
       "      <td>[Johnny Depp, Orlando Bloom, Keira Knightley, ...</td>\n",
       "      <td>[Gore Verbinski]</td>\n",
       "    </tr>\n",
       "  </tbody>\n",
       "</table>\n",
       "</div>"
      ],
      "text/plain": [
       "   movie_id                                     title  \\\n",
       "0     19995                                    Avatar   \n",
       "1       285  Pirates of the Caribbean: At World's End   \n",
       "\n",
       "                                            overview  \\\n",
       "0  In the 22nd century, a paraplegic Marine is di...   \n",
       "1  Captain Barbossa, long believed to be dead, ha...   \n",
       "\n",
       "                                          genres  \\\n",
       "0  [Action, Adventure, Fantasy, Science Fiction]   \n",
       "1                   [Adventure, Fantasy, Action]   \n",
       "\n",
       "                                            keywords  \\\n",
       "0  [culture clash, future, space war, space colon...   \n",
       "1  [ocean, drug abuse, exotic island, east india ...   \n",
       "\n",
       "                                                cast              crew  \n",
       "0  [Sam Worthington, Zoe Saldana, Sigourney Weave...   [James Cameron]  \n",
       "1  [Johnny Depp, Orlando Bloom, Keira Knightley, ...  [Gore Verbinski]  "
      ]
     },
     "execution_count": 31,
     "metadata": {},
     "output_type": "execute_result"
    }
   ],
   "source": [
    "movies.head(2)"
   ]
  },
  {
   "cell_type": "code",
   "execution_count": 32,
   "id": "82d8b7da-a011-4e5f-b142-c2283e23b37c",
   "metadata": {},
   "outputs": [
    {
     "data": {
      "text/plain": [
       "movie_id     int64\n",
       "title       object\n",
       "overview    object\n",
       "genres      object\n",
       "keywords    object\n",
       "cast        object\n",
       "crew        object\n",
       "dtype: object"
      ]
     },
     "execution_count": 32,
     "metadata": {},
     "output_type": "execute_result"
    }
   ],
   "source": [
    "movies.dtypes"
   ]
  },
  {
   "cell_type": "markdown",
   "id": "24912f3e-9cd2-4212-8df4-e8efc07c9a40",
   "metadata": {},
   "source": [
    "- #### Convert pandas DataFrame to Spark DataFrame"
   ]
  },
  {
   "cell_type": "code",
   "execution_count": 33,
   "id": "1b5cee74-1e05-4a27-8d0b-0bd8b5ffff8f",
   "metadata": {},
   "outputs": [],
   "source": [
    "# Convert pandas DataFrame to Spark DataFrame\n",
    "movie_df = spark.createDataFrame(movies)"
   ]
  },
  {
   "cell_type": "code",
   "execution_count": 34,
   "id": "b8a0661e-5fb0-48bf-871a-9478b511f952",
   "metadata": {},
   "outputs": [
    {
     "name": "stdout",
     "output_type": "stream",
     "text": [
      "root\n",
      " |-- movie_id: long (nullable = true)\n",
      " |-- title: string (nullable = true)\n",
      " |-- overview: string (nullable = true)\n",
      " |-- genres: array (nullable = true)\n",
      " |    |-- element: string (containsNull = true)\n",
      " |-- keywords: array (nullable = true)\n",
      " |    |-- element: string (containsNull = true)\n",
      " |-- cast: array (nullable = true)\n",
      " |    |-- element: string (containsNull = true)\n",
      " |-- crew: array (nullable = true)\n",
      " |    |-- element: string (containsNull = true)\n",
      "\n"
     ]
    }
   ],
   "source": [
    "movie_df.printSchema()"
   ]
  },
  {
   "cell_type": "code",
   "execution_count": 35,
   "id": "842a37ab-e876-4b4e-b2ce-587e8072c475",
   "metadata": {},
   "outputs": [
    {
     "name": "stdout",
     "output_type": "stream",
     "text": [
      "+--------+--------------------+--------------------+--------------------+--------------------+--------------------+----------------+\n",
      "|movie_id|               title|            overview|              genres|            keywords|                cast|            crew|\n",
      "+--------+--------------------+--------------------+--------------------+--------------------+--------------------+----------------+\n",
      "|   19995|              Avatar|In the 22nd centu...|[Action, Adventur...|[culture clash, f...|[Sam Worthington,...| [James Cameron]|\n",
      "|     285|Pirates of the Ca...|Captain Barbossa,...|[Adventure, Fanta...|[ocean, drug abus...|[Johnny Depp, Orl...|[Gore Verbinski]|\n",
      "+--------+--------------------+--------------------+--------------------+--------------------+--------------------+----------------+\n",
      "only showing top 2 rows\n",
      "\n"
     ]
    }
   ],
   "source": [
    "movie_df.show(2)"
   ]
  },
  {
   "cell_type": "code",
   "execution_count": 36,
   "id": "a8c4ab50-6be0-4dc1-b7d7-280a02d15060",
   "metadata": {},
   "outputs": [
    {
     "data": {
      "text/plain": [
       "4806"
      ]
     },
     "execution_count": 36,
     "metadata": {},
     "output_type": "execute_result"
    }
   ],
   "source": [
    "movie_df.count()"
   ]
  },
  {
   "cell_type": "markdown",
   "id": "539d4880-24b7-4bc7-99c2-d5d06e2e791b",
   "metadata": {},
   "source": [
    "## Build Recommendation System"
   ]
  },
  {
   "cell_type": "markdown",
   "id": "ad4d90e2-df2b-47a2-8367-26c4677bb749",
   "metadata": {},
   "source": [
    "### Plot description based Recommender\n",
    "  - We will compute pairwise similarity scores for all movies based on their plot descriptions and recommend movies based on that similarity score. The plot description is given in the **overview feature** of our dataset\n",
    "  - This approach is indeed based on computing the cosine similarity between the vector representations of movie overviews."
   ]
  },
  {
   "cell_type": "code",
   "execution_count": 37,
   "id": "0ed46ac4-414e-4b24-898d-66cc35a0960a",
   "metadata": {},
   "outputs": [],
   "source": [
    "def create_pb_recommender(movie_df):\n",
    "    # Tokenize overview\n",
    "    tokenizer = Tokenizer(inputCol=\"overview\", outputCol=\"words\")\n",
    "    \n",
    "    # Remove stop words\n",
    "    remover = StopWordsRemover(inputCol=\"words\", outputCol=\"filtered_words\")\n",
    "    \n",
    "    # Convert words to term frequency vectors\n",
    "    hashingTF = HashingTF(inputCol=\"filtered_words\", outputCol=\"raw_features\", numFeatures=20000)\n",
    "    \n",
    "    # Calculate IDF\n",
    "    idf = IDF(inputCol=\"raw_features\", outputCol=\"tfidf_features\")\n",
    "    \n",
    "    # Create and fit the pipeline\n",
    "    pipeline = Pipeline(stages=[tokenizer, remover, hashingTF, idf])\n",
    "    model = pipeline.fit(movie_df)\n",
    "    tfidf_df = model.transform(movie_df)\n",
    "    \n",
    "    return tfidf_df"
   ]
  },
  {
   "cell_type": "code",
   "execution_count": 38,
   "id": "0e279f0c-9b62-46ab-a2ba-2238437d9f7a",
   "metadata": {},
   "outputs": [],
   "source": [
    "# cosine similarity\n",
    "def cosine_similarity_vectors(v1, v2):\n",
    "    v1_array = v1.toArray()\n",
    "    v2_array = v2.toArray()\n",
    "    dot_product = float(v1_array.dot(v2_array))\n",
    "    norm1 = float(np.sqrt(v1_array.dot(v1_array)))\n",
    "    norm2 = float(np.sqrt(v2_array.dot(v2_array)))\n",
    "    \n",
    "    return float(dot_product / (norm1 * norm2)) if norm1 * norm2 != 0 else 0.0"
   ]
  },
  {
   "cell_type": "code",
   "execution_count": 39,
   "id": "4f0d3300-029c-491e-acdd-29deb9c2c80d",
   "metadata": {},
   "outputs": [],
   "source": [
    "def get_pb_recommendations(movie_title, feature_df, feature_col, top_n=10):\n",
    "    # Get the feature vector for the input movie\n",
    "    movie_features = feature_df.filter(col(\"title\") == movie_title) \\\n",
    "                              .select(feature_col) \\\n",
    "                              .first()\n",
    "    \n",
    "    if not movie_features:\n",
    "        return None\n",
    "    \n",
    "    # Create broadcast variable for movie features\n",
    "    movie_vector_broadcast = spark.sparkContext.broadcast(movie_features[0])\n",
    "    \n",
    "    # Create UDF with broadcasted vector\n",
    "    @udf(returnType=FloatType())\n",
    "    def cosine_sim_with_broadcast(v1):\n",
    "        return cosine_similarity_vectors(v1, movie_vector_broadcast.value)\n",
    "    \n",
    "    # Calculate similarities\n",
    "    similarities = feature_df.withColumn(\n",
    "        \"similarity\",\n",
    "        cosine_sim_with_broadcast(col(feature_col))\n",
    "    )\n",
    "    \n",
    "    # Get top N similar movies\n",
    "    result = similarities.filter(col(\"title\") != movie_title) \\\n",
    "                        .orderBy(col(\"similarity\").desc()) \\\n",
    "                        .select(\"title\", \"similarity\") \\\n",
    "                        .limit(top_n)\n",
    "    \n",
    "    # Clean up broadcast variable\n",
    "    movie_vector_broadcast.unpersist()\n",
    "    \n",
    "    return result"
   ]
  },
  {
   "cell_type": "code",
   "execution_count": 40,
   "id": "0f4285f9-30f4-4bcf-a196-78f2c17fc999",
   "metadata": {},
   "outputs": [],
   "source": [
    "# create recommender\n",
    "tfidf_df = create_pb_recommender(movie_df)"
   ]
  },
  {
   "cell_type": "code",
   "execution_count": 41,
   "id": "c4434132-c9f0-4a5c-ae55-28dd5766c434",
   "metadata": {},
   "outputs": [],
   "source": [
    "# Plot-based recommendations\n",
    "plot_recommendations = get_pb_recommendations(\"The Dark Knight Rises\", tfidf_df, \"tfidf_features\")"
   ]
  },
  {
   "cell_type": "code",
   "execution_count": 42,
   "id": "a01a46aa-aa40-412e-aa1c-538e4fa72913",
   "metadata": {},
   "outputs": [
    {
     "name": "stdout",
     "output_type": "stream",
     "text": [
      "+---------------+-----------+\n",
      "|          title| similarity|\n",
      "+---------------+-----------+\n",
      "|The Dark Knight| 0.22959843|\n",
      "| Batman Returns| 0.19577514|\n",
      "| Batman Forever| 0.19064705|\n",
      "|         Batman| 0.16277784|\n",
      "|         Batman| 0.16277784|\n",
      "|        RoboCop|0.107336655|\n",
      "| Batman & Robin| 0.10499269|\n",
      "|      Slow Burn| 0.10296699|\n",
      "|  Just Visiting| 0.10018901|\n",
      "|  Despicable Me| 0.09012854|\n",
      "+---------------+-----------+\n",
      "\n"
     ]
    }
   ],
   "source": [
    "plot_recommendations.show()"
   ]
  },
  {
   "cell_type": "markdown",
   "id": "a1e85b8f-b452-4581-af71-495ca5f8b241",
   "metadata": {},
   "source": [
    "### Metadata-based Recommendations\n",
    "- A recommender based on the following metadata: **the 3 top actors**, **the director**, **related genres** and **the movie plot keywords**."
   ]
  },
  {
   "cell_type": "markdown",
   "id": "8b06a596-92e9-4d8f-8ae7-3bc379679893",
   "metadata": {},
   "source": [
    "- #### Pre-process data for Metadata-based Recommendations\n",
    "    - Since there are many genres, actor/actress and keyword in each row, we will choose top 3 most related related items for each column.\n",
    "    - This will improve recommendation quality, reduces noise and enhances computation efficiency"
   ]
  },
  {
   "cell_type": "code",
   "execution_count": 43,
   "id": "1a19886a-46b7-44e2-a9dc-a50338402be7",
   "metadata": {},
   "outputs": [],
   "source": [
    "# movie_df.show(3, truncate=False)"
   ]
  },
  {
   "cell_type": "code",
   "execution_count": 44,
   "id": "33a0299e-591d-4121-921c-73305f2d692a",
   "metadata": {},
   "outputs": [],
   "source": [
    "'''\n",
    "convert the names and keyword instances into lowercase and strip all the spaces between them. \n",
    "This is done so that our vectorizer doesn't count the Johnny of \"Johnny Depp\" and \"Johnny Galecki\" as the same.\n",
    "'''\n",
    "\n",
    "# Define UDF for cleaning array/list data\n",
    "@udf(returnType=ArrayType(StringType()))\n",
    "def clean_array_data(x):\n",
    "    if x is None:\n",
    "        return []\n",
    "    return [str(i).lower().replace(\" \", \"\") for i in x]\n",
    "\n",
    "# Define UDF for cleaning string data\n",
    "@udf(returnType=StringType())\n",
    "def clean_string_data(x):\n",
    "    if x is None:\n",
    "        return ''\n",
    "    return str(x).lower().replace(\" \", \"\")\n",
    "\n",
    "# Clean the features\n",
    "features = ['cast', 'keywords', 'crew', 'genres']\n",
    "\n",
    "# Apply cleaning to each feature\n",
    "for feature in features:\n",
    "    # Check if the column is an array type\n",
    "    if isinstance(movie_df.schema[feature].dataType, ArrayType):\n",
    "        movie_df = movie_df.withColumn(feature, clean_array_data(col(feature)))\n",
    "    else:\n",
    "        movie_df = movie_df.withColumn(feature, clean_string_data(col(feature)))"
   ]
  },
  {
   "cell_type": "code",
   "execution_count": 45,
   "id": "fb03d7f2-9458-4aa8-980f-d930607180f8",
   "metadata": {},
   "outputs": [],
   "source": [
    "# select the top 3\n",
    "features = ['cast', 'keywords', 'genres']\n",
    "\n",
    "for feature in features:\n",
    "    # Using slice function is more efficient than UDF\n",
    "    movie_df = movie_df.withColumn(\n",
    "        feature,\n",
    "        # When array size > 3, take first 3 elements, otherwise keep all\n",
    "        when(size(col(feature)) > 3,\n",
    "             slice(col(feature), 1, 3))\n",
    "        .otherwise(col(feature))\n",
    "    )"
   ]
  },
  {
   "cell_type": "code",
   "execution_count": 46,
   "id": "0643c8dd-8cd7-42f2-a1f3-06977953e97a",
   "metadata": {},
   "outputs": [
    {
     "name": "stdout",
     "output_type": "stream",
     "text": [
      "+--------+----------------------------------------+--------------------------------------------------------------------------------------------------------------------------------------------------------------------------------+----------------------------+--------------------------------+---------------------------------------------+---------------+\n",
      "|movie_id|title                                   |overview                                                                                                                                                                        |genres                      |keywords                        |cast                                         |crew           |\n",
      "+--------+----------------------------------------+--------------------------------------------------------------------------------------------------------------------------------------------------------------------------------+----------------------------+--------------------------------+---------------------------------------------+---------------+\n",
      "|19995   |Avatar                                  |In the 22nd century, a paraplegic Marine is dispatched to the moon Pandora on a unique mission, but becomes torn between following orders and protecting an alien civilization. |[action, adventure, fantasy]|[cultureclash, future, spacewar]|[samworthington, zoesaldana, sigourneyweaver]|[jamescameron] |\n",
      "|285     |Pirates of the Caribbean: At World's End|Captain Barbossa, long believed to be dead, has come back to life and is headed to the edge of the Earth with Will Turner and Elizabeth Swann. But nothing is quite as it seems.|[adventure, fantasy, action]|[ocean, drugabuse, exoticisland]|[johnnydepp, orlandobloom, keiraknightley]   |[goreverbinski]|\n",
      "+--------+----------------------------------------+--------------------------------------------------------------------------------------------------------------------------------------------------------------------------------+----------------------------+--------------------------------+---------------------------------------------+---------------+\n",
      "only showing top 2 rows\n",
      "\n"
     ]
    }
   ],
   "source": [
    "movie_df.show(2, truncate=False)"
   ]
  },
  {
   "cell_type": "markdown",
   "id": "cdea942b-a224-4a6f-afb1-43ec789b4c9a",
   "metadata": {},
   "source": [
    "- Create tags that that contains all the metadata that we want to feed to our vectorizer (namely actors, director and keywords)."
   ]
  },
  {
   "cell_type": "code",
   "execution_count": 47,
   "id": "0965c072-9700-4363-a760-f45b59ff31c6",
   "metadata": {},
   "outputs": [],
   "source": [
    "movie_df = movie_df.withColumn(\n",
    "    \"tags\",\n",
    "    lower(\n",
    "        concat_ws(\n",
    "            \" \",\n",
    "            array_join(col(\"keywords\"), \" \"),\n",
    "            array_join(col(\"cast\"), \" \"),\n",
    "            array_join(col(\"crew\"), \" \"),\n",
    "            array_join(col(\"genres\"), \" \")\n",
    "        )\n",
    "    )\n",
    ")"
   ]
  },
  {
   "cell_type": "code",
   "execution_count": 48,
   "id": "6706672c-9cb8-4144-b88c-50d43145644a",
   "metadata": {},
   "outputs": [
    {
     "name": "stdout",
     "output_type": "stream",
     "text": [
      "+--------+------+-------------------------------------------------------------------------------------------------------------------------------------------------------------------------------+----------------------------+--------------------------------+---------------------------------------------+--------------+------------------------------------------------------------------------------------------------------------+\n",
      "|movie_id|title |overview                                                                                                                                                                       |genres                      |keywords                        |cast                                         |crew          |tags                                                                                                        |\n",
      "+--------+------+-------------------------------------------------------------------------------------------------------------------------------------------------------------------------------+----------------------------+--------------------------------+---------------------------------------------+--------------+------------------------------------------------------------------------------------------------------------+\n",
      "|19995   |Avatar|In the 22nd century, a paraplegic Marine is dispatched to the moon Pandora on a unique mission, but becomes torn between following orders and protecting an alien civilization.|[action, adventure, fantasy]|[cultureclash, future, spacewar]|[samworthington, zoesaldana, sigourneyweaver]|[jamescameron]|cultureclash future spacewar samworthington zoesaldana sigourneyweaver jamescameron action adventure fantasy|\n",
      "+--------+------+-------------------------------------------------------------------------------------------------------------------------------------------------------------------------------+----------------------------+--------------------------------+---------------------------------------------+--------------+------------------------------------------------------------------------------------------------------------+\n",
      "only showing top 1 row\n",
      "\n"
     ]
    }
   ],
   "source": [
    "movie_df.show(n=1, truncate=False)"
   ]
  },
  {
   "cell_type": "markdown",
   "id": "4a79a7c8-913d-42ea-ab0d-09221c1db398",
   "metadata": {},
   "source": [
    "- #### Perform Metadata-based Recommendations"
   ]
  },
  {
   "cell_type": "code",
   "execution_count": 49,
   "id": "35c806c6-16ed-4b30-be1f-ac2e2431201b",
   "metadata": {},
   "outputs": [],
   "source": [
    "@udf(returnType=FloatType())\n",
    "def cosine_similarity_vectors(v1, v2):\n",
    "    v1_array = v1.toArray()\n",
    "    v2_array = v2.toArray()\n",
    "    dot_product = float(v1_array.dot(v2_array))\n",
    "    norm1 = float(np.sqrt(v1_array.dot(v1_array)))\n",
    "    norm2 = float(np.sqrt(v2_array.dot(v2_array)))\n",
    "    \n",
    "    return float(dot_product / (norm1 * norm2)) if norm1 * norm2 != 0 else 0."
   ]
  },
  {
   "cell_type": "code",
   "execution_count": 50,
   "id": "cc673225-dd83-4299-96e4-9e690e46edd2",
   "metadata": {},
   "outputs": [],
   "source": [
    "def create_metadata_based_recommender(movie_df):\n",
    "    # Create pipeline for count vectorization\n",
    "    tokenizer = Tokenizer(inputCol=\"tags\", outputCol=\"words\")\n",
    "    countVectorizer = CountVectorizer(inputCol=\"words\", \n",
    "                                    outputCol=\"features\",\n",
    "                                    vocabSize=20000,\n",
    "                                    minDF=1.0)\n",
    "    \n",
    "    # Create and fit pipeline\n",
    "    pipeline = Pipeline(stages=[tokenizer, countVectorizer])\n",
    "    model = pipeline.fit(movie_df)\n",
    "    features_df = model.transform(movie_df)\n",
    "    \n",
    "    return features_df, model"
   ]
  },
  {
   "cell_type": "code",
   "execution_count": 51,
   "id": "fae97f3f-57ab-40a6-841a-cc0ecb3a51cc",
   "metadata": {},
   "outputs": [],
   "source": [
    "def get_recommendations(title, feature_df, n=10):\n",
    "    # Get the feature vector for the input movie\n",
    "    input_vector = feature_df.filter(col(\"title\") == title).first()\n",
    "    \n",
    "    if not input_vector:\n",
    "        return None\n",
    "    \n",
    "    # Create a cross join with the input vector's features\n",
    "    recommendations = feature_df.crossJoin(\n",
    "        broadcast(feature_df.filter(col(\"title\") == title)\n",
    "        .select(\"features\")\n",
    "        .withColumnRenamed(\"features\", \"input_features\"))\n",
    "    )\n",
    "    \n",
    "    # Calculate similarities\n",
    "    recommendations = recommendations.withColumn(\n",
    "        \"similarity\",\n",
    "        cosine_similarity_vectors(col(\"features\"), col(\"input_features\"))\n",
    "    )\n",
    "    \n",
    "    # Get top N recommendations\n",
    "    return recommendations.filter(col(\"title\") != title) \\\n",
    "                         .orderBy(col(\"similarity\").desc()) \\\n",
    "                         .select(\"title\", \"similarity\") \\\n",
    "                         .limit(n)"
   ]
  },
  {
   "cell_type": "code",
   "execution_count": 52,
   "id": "fde765eb-fba6-4326-9414-74157212570e",
   "metadata": {},
   "outputs": [],
   "source": [
    "feature_df, model = create_metadata_based_recommender(movie_df)"
   ]
  },
  {
   "cell_type": "code",
   "execution_count": 53,
   "id": "952800d0-0dcd-418b-a742-28baec6052c1",
   "metadata": {},
   "outputs": [],
   "source": [
    "meta_recommendations = get_recommendations(\"The Dark Knight Rises\", feature_df)"
   ]
  },
  {
   "cell_type": "code",
   "execution_count": 54,
   "id": "1d13cc81-dedf-4044-a0c5-5d1e7bac5cb0",
   "metadata": {},
   "outputs": [
    {
     "name": "stdout",
     "output_type": "stream",
     "text": [
      "+-----------------+----------+\n",
      "|            title|similarity|\n",
      "+-----------------+----------+\n",
      "|  The Dark Knight|       0.7|\n",
      "|    Batman Begins|       0.7|\n",
      "|Romeo Is Bleeding|       0.4|\n",
      "|     The Prestige|       0.4|\n",
      "|   Black November| 0.3354102|\n",
      "|           Faster| 0.3354102|\n",
      "|    Kiss of Death| 0.3354102|\n",
      "|           Takers| 0.3354102|\n",
      "|      Harry Brown|0.31622776|\n",
      "|     Street Kings|0.31622776|\n",
      "+-----------------+----------+\n",
      "\n"
     ]
    }
   ],
   "source": [
    "meta_recommendations.show()"
   ]
  },
  {
   "cell_type": "code",
   "execution_count": 55,
   "id": "8d577e50-bb67-49ea-a616-42679361e0b5",
   "metadata": {},
   "outputs": [],
   "source": [
    "spark.stop()"
   ]
  },
  {
   "cell_type": "code",
   "execution_count": null,
   "id": "7883f1b7-4e1b-4efd-a694-fd4e48cc4258",
   "metadata": {},
   "outputs": [],
   "source": []
  }
 ],
 "metadata": {
  "kernelspec": {
   "display_name": "Python 3 (ipykernel)",
   "language": "python",
   "name": "python3"
  },
  "language_info": {
   "codemirror_mode": {
    "name": "ipython",
    "version": 3
   },
   "file_extension": ".py",
   "mimetype": "text/x-python",
   "name": "python",
   "nbconvert_exporter": "python",
   "pygments_lexer": "ipython3",
   "version": "3.11.7"
  }
 },
 "nbformat": 4,
 "nbformat_minor": 5
}
